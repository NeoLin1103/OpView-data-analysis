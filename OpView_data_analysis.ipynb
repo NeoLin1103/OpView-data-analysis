{
 "cells": [
  {
   "cell_type": "code",
   "execution_count": null,
   "id": "b22b92d2",
   "metadata": {},
   "outputs": [],
   "source": [
    "\"\"\"\n",
    "1. 創造欄位: \"標題和來源網站\"、\"網站\"、\"頻道\"、\"月\"、\"日\"、\"時\"、\"日期\"、\"日月年\"\n",
    " - 註: 連續變項: 聲量、好感度; 類別變項: 標題、頻道、時間 (主題、族群)\n",
    "2. 計算P/N值 (根據自定義單位)\n",
    " - 註: 需要計算回應比\n",
    "3. 查看文章內容 (根據標題)\n",
    "4. 時間段內文章聲量排行\n",
    "5. 頻道聲量排行和文章聲量排行 (可用分類聲量排行取代)\n",
    "6. 分類聲量排行 (可自訂聲量單位，根據欄位Label)\n",
    " - 註: 把分類和根據聲量單位分開寫\n",
    "7. 擴散: 時間頻率切段 (重點)，根據自訂單位排行聲量\n",
    "8. 聲量趨勢圖、正負聲量+PN值趨勢圖\n",
    "\"\"\""
   ]
  },
  {
   "cell_type": "code",
   "execution_count": 2,
   "id": "93191745",
   "metadata": {},
   "outputs": [],
   "source": [
    "import pandas as pd\n",
    "from tqdm import trange"
   ]
  },
  {
   "cell_type": "code",
   "execution_count": 3,
   "id": "02608f00",
   "metadata": {},
   "outputs": [],
   "source": [
    "path = r\"C:\\Users\\kaohunglin\\Desktop\\報告\\台東年度議題\\data\\完整資料\"\n",
    "file_name = \"Result_台東熱氣球嘉年華\"\n",
    "df = pd.read_csv(f\"{path}\\{file_name}.csv\", encoding='utf_8_sig')\n",
    "df.drop(columns=[\"Unnamed: 0\"], inplace=True)\n",
    "# df.head()"
   ]
  },
  {
   "cell_type": "markdown",
   "id": "df0e5892",
   "metadata": {},
   "source": [
    "# 合併\"標題和來源網站\"及分割\"網站\"與\"頻道\""
   ]
  },
  {
   "cell_type": "code",
   "execution_count": 4,
   "id": "3f24b926",
   "metadata": {},
   "outputs": [],
   "source": [
    "# 創造\"標題和來源網站\"欄位\n",
    "df[\"標題和來源網站\"] = df.apply(lambda x: str(x.標題)+str(x.來源網站), axis=1)"
   ]
  },
  {
   "cell_type": "code",
   "execution_count": 5,
   "id": "d2f1258b",
   "metadata": {},
   "outputs": [],
   "source": [
    "df[\"網站\"] = df.來源網站.apply(lambda x: x.split(\" > \")[0])\n",
    "df[\"頻道\"] = df.來源網站.apply(lambda x: x.split(\" > \")[1])"
   ]
  },
  {
   "cell_type": "markdown",
   "id": "c115c8ce",
   "metadata": {},
   "source": [
    "# 時間標記欄位"
   ]
  },
  {
   "cell_type": "code",
   "execution_count": 6,
   "id": "6eb3d507",
   "metadata": {},
   "outputs": [
    {
     "data": {
      "text/html": [
       "<div>\n",
       "<style scoped>\n",
       "    .dataframe tbody tr th:only-of-type {\n",
       "        vertical-align: middle;\n",
       "    }\n",
       "\n",
       "    .dataframe tbody tr th {\n",
       "        vertical-align: top;\n",
       "    }\n",
       "\n",
       "    .dataframe thead th {\n",
       "        text-align: right;\n",
       "    }\n",
       "</style>\n",
       "<table border=\"1\" class=\"dataframe\">\n",
       "  <thead>\n",
       "    <tr style=\"text-align: right;\">\n",
       "      <th></th>\n",
       "      <th>發佈時間</th>\n",
       "      <th>發佈時間_月</th>\n",
       "      <th>發佈時間_日</th>\n",
       "      <th>發佈時間_時</th>\n",
       "    </tr>\n",
       "  </thead>\n",
       "  <tbody>\n",
       "    <tr>\n",
       "      <th>0</th>\n",
       "      <td>2021/10/31 14:12:52</td>\n",
       "      <td>10</td>\n",
       "      <td>31</td>\n",
       "      <td>14</td>\n",
       "    </tr>\n",
       "    <tr>\n",
       "      <th>1</th>\n",
       "      <td>2021/10/31 12:46:54</td>\n",
       "      <td>10</td>\n",
       "      <td>31</td>\n",
       "      <td>12</td>\n",
       "    </tr>\n",
       "    <tr>\n",
       "      <th>2</th>\n",
       "      <td>2021/10/30 17:53:35</td>\n",
       "      <td>10</td>\n",
       "      <td>30</td>\n",
       "      <td>17</td>\n",
       "    </tr>\n",
       "    <tr>\n",
       "      <th>3</th>\n",
       "      <td>2021/10/30 11:24:14</td>\n",
       "      <td>10</td>\n",
       "      <td>30</td>\n",
       "      <td>11</td>\n",
       "    </tr>\n",
       "    <tr>\n",
       "      <th>4</th>\n",
       "      <td>2021/10/30 03:52:00</td>\n",
       "      <td>10</td>\n",
       "      <td>30</td>\n",
       "      <td>03</td>\n",
       "    </tr>\n",
       "  </tbody>\n",
       "</table>\n",
       "</div>"
      ],
      "text/plain": [
       "                  發佈時間 發佈時間_月 發佈時間_日 發佈時間_時\n",
       "0  2021/10/31 14:12:52     10     31     14\n",
       "1  2021/10/31 12:46:54     10     31     12\n",
       "2  2021/10/30 17:53:35     10     30     17\n",
       "3  2021/10/30 11:24:14     10     30     11\n",
       "4  2021/10/30 03:52:00     10     30     03"
      ]
     },
     "execution_count": 6,
     "metadata": {},
     "output_type": "execute_result"
    }
   ],
   "source": [
    "# df[\"發佈時間_月\"] = df.發佈時間.apply(lambda x: x.split(\" \")[0].split(\"/\")[1])\n",
    "# df[\"發佈時間_日\"] = df.發佈時間.apply(lambda x: x.split(\" \")[0].split(\"/\")[2])\n",
    "# df[\"發佈時間_時\"] = df.發佈時間.apply(lambda x: x.split(\" \")[1].split(\":\")[0])\n",
    "# df[[\"發佈時間\",\"發佈時間_月\",\"發佈時間_日\",\"發佈時間_時\"]].head()"
   ]
  },
  {
   "cell_type": "code",
   "execution_count": 7,
   "id": "ab52ef03",
   "metadata": {},
   "outputs": [],
   "source": [
    "# df[\"發佈時間_日期\"] = df.apply(lambda x: str(x.發佈時間_月)+\"/\"+str(x.發佈時間_日), axis=1)\n",
    "# df[\"發佈時間_年月日\"] = df.發佈時間.apply(lambda x: x.split(\" \")[0])"
   ]
  },
  {
   "cell_type": "code",
   "execution_count": 9,
   "id": "032b51d2",
   "metadata": {},
   "outputs": [],
   "source": [
    "def create_channel_and_time_tags(df):\n",
    "    df[\"標題和來源網站\"] = df.apply(lambda x: str(x.標題)+str(x.來源網站), axis=1)\n",
    "    df[\"網站\"] = df.來源網站.apply(lambda x: x.split(\" > \")[0])\n",
    "    df[\"頻道\"] = df.來源網站.apply(lambda x: x.split(\" > \")[1])\n",
    "    df[\"發佈時間_月\"] = df.發佈時間.apply(lambda x: x.split(\" \")[0].split(\"/\")[1])\n",
    "    df[\"發佈時間_日\"] = df.發佈時間.apply(lambda x: x.split(\" \")[0].split(\"/\")[2])\n",
    "    df[\"發佈時間_時\"] = df.發佈時間.apply(lambda x: x.split(\" \")[1].split(\":\")[0])\n",
    "    df[\"發佈時間_日期\"] = df.apply(lambda x: str(x.發佈時間_月)+\"/\"+str(x.發佈時間_日), axis=1)\n",
    "    df[\"發佈時間_年月日\"] = df.發佈時間.apply(lambda x: x.split(\" \")[0])"
   ]
  },
  {
   "cell_type": "code",
   "execution_count": 10,
   "id": "9c1c8736",
   "metadata": {},
   "outputs": [],
   "source": [
    "create_channel_and_time_tags(df)"
   ]
  },
  {
   "cell_type": "markdown",
   "id": "e8eba5c4",
   "metadata": {},
   "source": [
    "# 計算P/N值"
   ]
  },
  {
   "cell_type": "code",
   "execution_count": null,
   "id": "55d4f1be",
   "metadata": {},
   "outputs": [],
   "source": [
    "def cal_PN_ratio(group_by_cat):\n",
    "    # 計算總評論數\n",
    "    df_total_count = df.groupby([group_by_cat]).size().to_frame().reset_index()\n",
    "    df_total_count.rename(columns={0:\"總評論數\"}, inplace=True)\n",
    "    # 計算正面評論數\n",
    "    df_positive_count = df[df.情緒標記==\"正面\"].groupby([group_by_cat]).size().to_frame().reset_index()\n",
    "    df_positive_count.rename(columns={0:\"正面評論數\"}, inplace=True)\n",
    "    # 計算負面評論數\n",
    "    df_negative_count = df[df.情緒標記==\"負面\"].groupby([group_by_cat]).size().to_frame().reset_index()\n",
    "    df_negative_count.rename(columns={0:\"負面評論數\"}, inplace=True)\n",
    "    # 合併dataframes\n",
    "    df_sentiment = (df_positive_count.merge(df_negative_count, on=[group_by_cat], how=\"outer\")\n",
    "                                     .merge(df_total_count, on=[group_by_cat], how=\"outer\")\n",
    "                                     .fillna(0))\n",
    "    # 計算情緒正負比 (P+1/N+1)\n",
    "    df_sentiment[\"P/N比\"] = df_sentiment.apply(lambda x: (x.正面評論數+1)/(x.負面評論數+1), axis=1)\n",
    "    return df_sentiment"
   ]
  },
  {
   "cell_type": "code",
   "execution_count": null,
   "id": "c522089e",
   "metadata": {},
   "outputs": [],
   "source": [
    "group_by_cat = \"發佈時間_日期\"\n",
    "df_sentiment = cal_PN_ratio(group_by_cat)"
   ]
  },
  {
   "cell_type": "markdown",
   "id": "a153b0ce",
   "metadata": {},
   "source": [
    "# 查看文章內容"
   ]
  },
  {
   "cell_type": "code",
   "execution_count": 18,
   "id": "0f643104",
   "metadata": {},
   "outputs": [],
   "source": [
    "def content_of_article(article,label,start,end,column_name=\"\"):\n",
    "    print(\"主文內容:\")\n",
    "    print(df[(df[label]==article)&(df[\"主文/回文\"]==\"主文\")].內容)\n",
    "    print(\"\\n回文內容:\")\n",
    "    print(df[(df[label]==article)&(df[\"主文/回文\"]!=\"主文\")].內容.iloc[start:end])\n",
    "    if len(column_name) > 0:\n",
    "        print(f\"\\n{column_name}:\")\n",
    "        print(df[(df[label]==article)&(df[\"主文/回文\"]!=\"主文\")][column_name].unique())"
   ]
  },
  {
   "cell_type": "markdown",
   "id": "22878db8",
   "metadata": {},
   "source": [
    "#  期間聲量排行"
   ]
  },
  {
   "cell_type": "code",
   "execution_count": 15,
   "id": "d85d5acb",
   "metadata": {},
   "outputs": [],
   "source": [
    "df[\"id\"] = [x for x in range(len(df))]"
   ]
  },
  {
   "cell_type": "code",
   "execution_count": 16,
   "id": "a83ead4a",
   "metadata": {},
   "outputs": [],
   "source": [
    "def period_rank(start_date,end_date):\n",
    "    start = df[df[\"發佈時間_日期\"]==end_date].id.iloc[0]\n",
    "    end = df[df[\"發佈時間_日期\"]==start_date].id.iloc[-1]\n",
    "    df_period_rank = df[start:end+1].copy()\n",
    "    df_period_rank = df_period_rank.groupby([\"標題和來源網站\"]).size().to_frame().rename(columns={0:\"聲量\"}).sort_values(by=[\"聲量\"], ascending=False)\n",
    "    return df_period_rank"
   ]
  },
  {
   "cell_type": "code",
   "execution_count": null,
   "id": "c6c6d91f",
   "metadata": {},
   "outputs": [],
   "source": [
    "period_rank(\"07/23\",\"07/23\")"
   ]
  },
  {
   "cell_type": "code",
   "execution_count": null,
   "id": "32a739d1",
   "metadata": {},
   "outputs": [],
   "source": [
    "def period_rank_ymd(start_date,end_date,group_cat=\"標題和來源網站\"):\n",
    "    start = df[df[\"發佈時間_年月日\"]==end_date].id.iloc[0]\n",
    "    end = df[df[\"發佈時間_年月日\"]==start_date].id.iloc[-1]\n",
    "    df_period_rank = df[start:end+1].copy()\n",
    "    df_period_rank = df_period_rank.groupby([group_cat]).size().to_frame().rename(columns={0:\"聲量\"}).sort_values(by=[\"聲量\"], ascending=False)\n",
    "    return df_period_rank"
   ]
  },
  {
   "cell_type": "markdown",
   "id": "fa63b757",
   "metadata": {},
   "source": [
    "# 分類聲量排行"
   ]
  },
  {
   "cell_type": "markdown",
   "id": "859ab275",
   "metadata": {},
   "source": [
    "## 頻道聲量排行"
   ]
  },
  {
   "cell_type": "code",
   "execution_count": null,
   "id": "2322a8e2",
   "metadata": {},
   "outputs": [],
   "source": [
    "def channel_rank(df, rank_to):\n",
    "    df_channel_rank = df.groupby([\"來源網站\"]).size().to_frame().rename(columns={0:\"聲量\"}).sort_values(by=[\"聲量\"],ascending=False)\n",
    "    df_channel_rank = df_channel_rank[:rank_to]\n",
    "    return df_channel_rank"
   ]
  },
  {
   "cell_type": "markdown",
   "id": "f57b4678",
   "metadata": {},
   "source": [
    "## 文章聲量排行"
   ]
  },
  {
   "cell_type": "code",
   "execution_count": null,
   "id": "b5d0f960",
   "metadata": {},
   "outputs": [],
   "source": [
    "def article_ranking(df, rank_to):\n",
    "    df_article_rank = df.groupby([\"標題和來源網站\"]).size().to_frame().rename(columns={0:\"聲量\"}).sort_values(by=[\"聲量\"],ascending=False).reset_index()\n",
    "    df_article_rank = df_article_rank[:rank_to]\n",
    "    df_article_rank[\"標題\"] = \"\"\n",
    "    df_article_rank[\"頻道\"] = \"\"\n",
    "    df_article_rank[\"日期\"] = \"\"\n",
    "    for i in range(len(df_article_rank)):\n",
    "        article = df_article_rank.標題和來源網站.iloc[i]\n",
    "        df_article_rank.at[i,\"標題\"] = df[df.標題和來源網站 == article].標題.iloc[0].replace(\"?\",\"\")\n",
    "        df_article_rank.at[i,\"頻道\"] = df[df.標題和來源網站 == article].來源網站.iloc[0]\n",
    "        df_article_rank.at[i,\"日期\"] = df[df.標題和來源網站 == article].發佈時間_日期.iloc[0]\n",
    "    df_article_rank.drop(columns=[\"標題和來源網站\"], inplace=True)\n",
    "    return df_article_rank"
   ]
  },
  {
   "cell_type": "markdown",
   "id": "dfe0a894",
   "metadata": {},
   "source": [
    "## 分類聲量排行"
   ]
  },
  {
   "cell_type": "code",
   "execution_count": 27,
   "id": "68487c06",
   "metadata": {},
   "outputs": [],
   "source": [
    "def create_cat_list(predefined_cat_list,category):\n",
    "    if predefined_cat_list != \"\":\n",
    "        cat_list = predefined_cat_list\n",
    "    else:\n",
    "        cat_list = df[category].unique()\n",
    "    return cat_list\n",
    "\n",
    "def volume_by_cat(category,cat_part,mode,display_num=5,path=\"\",f_name=\"\",input_cat_list=\"\"):\n",
    "    cat_list = create_cat_list(input_cat_list,category)\n",
    "    cat_total_list = []\n",
    "    for cat in cat_list: # 每一個cat in cat_list會做一個排序\n",
    "        # 根據cat_part排序聲量\n",
    "        df_cat = df[df[category]==cat].groupby([cat_part]).size().to_frame().rename(columns={0:\"聲量\"}).sort_values(by=[\"聲量\"],ascending=False)\n",
    "        # 每個cat的總聲量\n",
    "        cat_total = len(df[df[category]==cat])\n",
    "        cat_total_list.append(cat_total)\n",
    "        if mode == \"display\":\n",
    "            print(f\"{cat}總聲量: {cat_total}\")\n",
    "            print(df_cat[:display_num],\"\\n\")\n",
    "        elif mode == \"output\":\n",
    "            # 輸出每個cat的排序\n",
    "            df_cat.to_excel(f\"{path}/{f_name}_{cat}分類聲量排行.xlsx\")\n",
    "    if mode == \"output\":\n",
    "        # 輸出cat_total_list\n",
    "        df_cat_total_list = pd.DataFrame({category:cat_list,\"聲量\":cat_total_list})"
   ]
  },
  {
   "cell_type": "code",
   "execution_count": null,
   "id": "e9770f95",
   "metadata": {},
   "outputs": [],
   "source": [
    "path = \"C:/Users/kaohunglin/Desktop/報告/台東年度議題/工作表整理\"\n",
    "f_name = \"台東年度議題_熱氣球嘉年華\"\n",
    "input_cat_list = list(df.發佈時間_日期.unique()[47:79])\n",
    "volume_by_cat(\"發佈時間_日期\",\"標題\",path,f_name,input_cat_list)"
   ]
  },
  {
   "cell_type": "code",
   "execution_count": 28,
   "id": "f6c0d2e3",
   "metadata": {},
   "outputs": [
    {
     "name": "stdout",
     "output_type": "stream",
     "text": [
      "社群網站總聲量: 39102\n",
      "                                                      聲量\n",
      "標題和來源網站                                                 \n",
      "號外號外，這顆大球難道是??臺北市首次以吉祥物熊讚Bravo，製作3D立體超...Facebo...  4211\n",
      "#文末有賞夏季的台東少了熱氣球，就像水寶手上少了FIN那個畫面偶～不～敢～想...Facebo...  2377\n",
      "【HELLO在哪裡??】 #文末有抽獎活動現在各地好朋友來到台東時??應該都...Facebo...  1822\n",
      "??#按讚分享抽全聯商品禮券??第四集「聊瞭台東」有沒有讓大家認識更多的臺東美...Faceb...  1733\n",
      "??你們睡醒了沒呀？就是今天！ 8/14今夏最萌的❤️臺北熊讚熱氣球即...Facebook粉...  1436\n",
      "#東森購物網#台東熱氣球嘉年華#留言有驚喜台東縣舉辦熱氣球已經超過十年了...Facebook...  1097\n",
      "??送你限量的熱氣球嘉年華口罩你要嗎??簡單哥來抽獎嘍???? ??參加方式：...Faceb...  1055\n",
      "感情就像熱氣球的飛行員，有風的時候領你乘風翱翔，沒風的時候也能帶你平安落地。 ...Faceb...  1016\n",
      "????????大會報告~大會報告?? ✨✨熱氣球嘉年華全新企劃登場✨✨前所未...Faceb...  1001\n",
      "??熊讚熱氣球第二波的抽獎活動來啦！臺北熊讚熱氣球X希望啟航熱騰騰的影片...Facebook...   971 \n",
      "\n",
      "新聞總聲量: 4611\n",
      "                                                 聲量\n",
      "標題和來源網站                                            \n",
      "台東熱氣球飛到一半突著火10年來最嚴重飛安事故yahoo新聞 > 首頁-各家新聞        179\n",
      "Delta病毒入侵＋強颱燦樹恐直撲台！台東熱氣球嘉年華提前閉幕LINE TODAY > 生活   52\n",
      "首搭19米熊讚熱氣球亮相！柯文哲搔頭苦笑：在想會不會怕LINE TODAY > 生活       50\n",
      "柯P嗆陳其邁「太出頭」高市府回酸：市長忙勘災沒空搭熱氣球ETtoday新聞雲 > 政治新聞    35\n",
      "柯文哲突嗆聲綠營人士嘆：邁邁忙勘災，柯P去搭熱氣球還要酸自由時報 > 政治(即時新聞)      28\n",
      "柯文哲引戰！怪陳其邁太出頭高市府酸回：市長防疫沒空坐熱氣球蘋果日報_即時新聞 > 政治      24\n",
      "熱氣球嘉年華僅限台東縣民報名王浩宇：請問柯文哲是台東縣民嗎？蘋果日報_即時新聞 > 生活     20\n",
      "台東熱氣球嘉年華防疫作為遭質疑LINE TODAY > 生活                   19\n",
      "台東熱氣球著火民航局要求停飛縣府：不屬飛安事件認知有落差yahoo新聞 > 首頁-各家新聞    18\n",
      "強颱+Delta疫情熱氣球嘉年華提前閉幕LINE TODAY > 生活              17 \n",
      "\n",
      "部落格總聲量: 116\n",
      "                                                    聲量\n",
      "標題和來源網站                                               \n",
      "#9母親像月亮一樣方格子 > 最新                                    1\n",
      "年度旅遊盛事ITF台北國際旅展倒數計時凱撒現場獨賣商品南北聯賣套裝券5000元任遊兩家飯店自由...   1\n",
      "東遊季鹿野篇2~~玫瑰色彩的大地藝術《穹頂上有花》在鄉公所旁的綠地@海龜獵人痞客邦 PIXNE...   1\n",
      "東縣降級維持夜市僅可外帶wordpress > 中華新聞雲                        1\n",
      "東縣豪雨不斷熱氣球繫留活動暫停wordpress > 中華新聞雲                     1\n",
      "東縣疫情警戒降級旅宿業者電話接到手軟wordpress > 中華新聞雲                  1\n",
      "日益突破疫情枷鎖土耳其塗油摔跤復辦傳承660年–芋傳媒TaroNewswordpress > 芋傳媒   1\n",
      "旅人驛站鐵花文創館 台東飯店推薦台東高CP值飯店台東客運站飯店推薦台東鐵花村飯店@妮妮女王的美...   1\n",
      "擁抱山嵐玩水美景盡收！獨棟VILLA庭院泡湯、全新大空間遊戲室，2021親子渡假飯店包棟玩起來...   1\n",
      "推台東人在地微旅行議員質疑預算來源wordpress > 中華新聞雲                   1 \n",
      "\n",
      "討論區總聲量: 705\n",
      "                                              聲量\n",
      "標題和來源網站                                         \n",
      "[新聞]柯文哲、饒慶鈴明搭熱氣球挨批標準不一Ptt > HatePolitics      74\n",
      "[新聞]柯P嗆陳其邁「太出頭」　高市府回酸：市Ptt > Gossiping        31\n",
      "[新聞]觀光客別來！台東熱氣球嘉年華「只開放在Ptt > Gossiping        29\n",
      "[討論]阿北怎麼不是上節目專訪就是去玩熱氣球?Ptt > HatePolitics     28\n",
      "[討論]台東鹿野高台熱氣球Ptt > WomenTalk                  20\n",
      "六十石山金針花海鹿野高台熱氣球嘉年華校園聊天-Dcard > 旅遊             20\n",
      "[問卦]業務妹子揪團看台東熱氣球啦Ptt > Gossiping              20\n",
      "柯P嗆陳其邁「太出頭」　高市府回酸：市長忙勘災沒空搭熱氣球校園聊天-Dcard > 時事  19\n",
      "[問卦]台東熱氣球值得五點起床去看嗎Ptt > Gossiping             18\n",
      "[討論]師父假日真忙一下台東熱氣球一下南投插旗Ptt > HatePolitics     18 \n",
      "\n"
     ]
    }
   ],
   "source": [
    "volume_by_cat(\"來源\",\"標題和來源網站\",mode=\"display\",display_num=10)"
   ]
  }
 ],
 "metadata": {
  "kernelspec": {
   "display_name": "Python 3 (ipykernel)",
   "language": "python",
   "name": "python3"
  },
  "language_info": {
   "codemirror_mode": {
    "name": "ipython",
    "version": 3
   },
   "file_extension": ".py",
   "mimetype": "text/x-python",
   "name": "python",
   "nbconvert_exporter": "python",
   "pygments_lexer": "ipython3",
   "version": "3.9.7"
  }
 },
 "nbformat": 4,
 "nbformat_minor": 5
}
