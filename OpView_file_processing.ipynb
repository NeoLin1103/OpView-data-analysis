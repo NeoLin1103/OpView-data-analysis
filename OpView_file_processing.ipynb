{
 "cells": [
  {
   "cell_type": "code",
   "execution_count": null,
   "id": "65350ad2",
   "metadata": {},
   "outputs": [],
   "source": [
    "import pandas as pd\n",
    "from tqdm import tqdm\n",
    "from os import listdir\n",
    "from os.path import isfile, join"
   ]
  },
  {
   "cell_type": "markdown",
   "id": "8c04ba70",
   "metadata": {},
   "source": [
    "# 拆分子工作表"
   ]
  },
  {
   "cell_type": "code",
   "execution_count": null,
   "id": "628f72e9",
   "metadata": {},
   "outputs": [],
   "source": [
    "def cut_sub_sheets(path,file_name_list,sheet_name_list,column_name,labels):\n",
    "    steps = len(file_name_list)*len(sheet_name_list)*len(labels)\n",
    "    pbar = tqdm(total=steps) \n",
    "    for x in file_name_list:\n",
    "        for y in sheet_name_list:\n",
    "            file_name = x.split(\".\")[0]\n",
    "            file_type = x.split(\".\")[1]\n",
    "            if file_type == \"xlsx\":\n",
    "                df = pd.read_excel(f\"{path}/{x}\", sheet_name = y)\n",
    "            elif file_type == \"csv\":\n",
    "                df = pd.read_csv(f\"{path}/{x}\", sheet_name = y)\n",
    "            else: \n",
    "                print(\"檔案格式錯誤\")\n",
    "                break\n",
    "            for z in labels:\n",
    "                df_sub = df[df[column_name] == z]\n",
    "                df_sub.to_excel(f\"{path}/{file_name}_{y}_{column_name}_{z}.xlsx\")\n",
    "                pbar.update(1)"
   ]
  },
  {
   "cell_type": "code",
   "execution_count": null,
   "id": "7862c15b",
   "metadata": {},
   "outputs": [],
   "source": [
    "path = \"C:/Users/kaohunglin/Desktop/note/code/data/211119_巨匠\"\n",
    "file_name_list = [\"排除官方抽獎.xlsx\"]\n",
    "sheet_name_list = [\"巨匠\",\"hahow\",\"yotta\",\"赫綵\",\"聯成\"]\n",
    "column_name = \"年\"\n",
    "labels = [2019,2020,2021]"
   ]
  },
  {
   "cell_type": "code",
   "execution_count": null,
   "id": "ba6841bb",
   "metadata": {},
   "outputs": [],
   "source": [
    "cut_sub_sheets(path,file_name_list,sheet_name_list,column_name,labels)"
   ]
  },
  {
   "cell_type": "markdown",
   "id": "6abe35f7",
   "metadata": {},
   "source": [
    "# 合併檔案"
   ]
  },
  {
   "cell_type": "code",
   "execution_count": null,
   "id": "ad0899f0",
   "metadata": {},
   "outputs": [],
   "source": [
    "path = r\"C:\\Users\\kaohunglin\\Desktop\\報告\\台東年度議題\\data\\完整資料\""
   ]
  },
  {
   "cell_type": "code",
   "execution_count": null,
   "id": "0eb5c5d7",
   "metadata": {},
   "outputs": [],
   "source": [
    "file_list = [f for f in listdir(path) if isfile(join(path, f))]\n",
    "print(file_list)"
   ]
  },
  {
   "cell_type": "code",
   "execution_count": null,
   "id": "9372f8a0",
   "metadata": {},
   "outputs": [],
   "source": [
    "if len(file_list) > 1:\n",
    "    df = pd.read_excel(f\"{path}\\{file_list[0]}\")\n",
    "    for i in trange(1,len(file_list)):\n",
    "        df_load = pd.read_excel(f\"{path}\\{file_list[i]}\")\n",
    "        df = pd.concat([df,df_load])\n",
    "else:\n",
    "    print(\"檔案數量為1，無須進行合併\")"
   ]
  },
  {
   "cell_type": "code",
   "execution_count": null,
   "id": "c51db326",
   "metadata": {},
   "outputs": [],
   "source": [
    "# 根據發佈時間由近到遠排序\n",
    "df.sort_values(by=[\"發佈時間\"], ascending=False, inplace=True)"
   ]
  },
  {
   "cell_type": "code",
   "execution_count": null,
   "id": "af09bc5c",
   "metadata": {},
   "outputs": [],
   "source": [
    "file_name = \"Result_台東熱氣球嘉年華\"\n",
    "df.to_csv(f\"{path}\\{file_name}.csv\", encoding='utf_8_sig')"
   ]
  }
 ],
 "metadata": {
  "kernelspec": {
   "display_name": "Python 3 (ipykernel)",
   "language": "python",
   "name": "python3"
  },
  "language_info": {
   "codemirror_mode": {
    "name": "ipython",
    "version": 3
   },
   "file_extension": ".py",
   "mimetype": "text/x-python",
   "name": "python",
   "nbconvert_exporter": "python",
   "pygments_lexer": "ipython3",
   "version": "3.9.7"
  }
 },
 "nbformat": 4,
 "nbformat_minor": 5
}
